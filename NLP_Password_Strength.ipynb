{
  "cells": [
    {
      "cell_type": "code",
      "execution_count": 1,
      "metadata": {
        "id": "PHIyvbg2gPCw"
      },
      "outputs": [],
      "source": [
        "import pandas as pd\n",
        "import numpy as np\n",
        "import seaborn as sns\n",
        "import warnings\n",
        "warnings.filterwarnings('ignore')"
      ]
    },
    {
      "cell_type": "markdown",
      "metadata": {
        "id": "dA2qczVagPCz"
      },
      "source": [
        "#### Reading dataset"
      ]
    },
    {
      "cell_type": "code",
      "source": [
        "from google.colab import files\n",
        "uploaded = files.upload()"
      ],
      "metadata": {
        "colab": {
          "resources": {
            "http://localhost:8080/nbextensions/google.colab/files.js": {
              "data": "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",
              "ok": true,
              "headers": [
                [
                  "content-type",
                  "application/javascript"
                ]
              ],
              "status": 200,
              "status_text": ""
            }
          },
          "base_uri": "https://localhost:8080/",
          "height": 39
        },
        "id": "XEvspCiPkITu",
        "outputId": "8ecdea36-55c9-4a25-e210-b616c1352162"
      },
      "execution_count": 2,
      "outputs": [
        {
          "output_type": "display_data",
          "data": {
            "text/plain": [
              "<IPython.core.display.HTML object>"
            ],
            "text/html": [
              "\n",
              "     <input type=\"file\" id=\"files-62f40ec0-8c57-48be-ac04-9cfc0c1b05fb\" name=\"files[]\" multiple disabled\n",
              "        style=\"border:none\" />\n",
              "     <output id=\"result-62f40ec0-8c57-48be-ac04-9cfc0c1b05fb\">\n",
              "      Upload widget is only available when the cell has been executed in the\n",
              "      current browser session. Please rerun this cell to enable.\n",
              "      </output>\n",
              "      <script src=\"/nbextensions/google.colab/files.js\"></script> "
            ]
          },
          "metadata": {}
        }
      ]
    },
    {
      "cell_type": "code",
      "execution_count": null,
      "metadata": {
        "scrolled": true,
        "id": "eloEGywQgPC0"
      },
      "outputs": [],
      "source": [
        "# data=pd.read_csv('C://Users//Legion//Desktop//Kaggle//My Models//NLP_Password_Strength//data.csv',error_bad_lines=False)\n",
        "data=pd.read_csv('data.csv',error_bad_lines=False)\n",
        "data.head()"
      ]
    },
    {
      "cell_type": "code",
      "source": [
        "len(data)"
      ],
      "metadata": {
        "colab": {
          "base_uri": "https://localhost:8080/"
        },
        "id": "aLZlzAb3i0C9",
        "outputId": "3ff64b47-cd5a-4515-f27b-20c6ba93b4f1"
      },
      "execution_count": 4,
      "outputs": [
        {
          "output_type": "execute_result",
          "data": {
            "text/plain": [
              "669640"
            ]
          },
          "metadata": {},
          "execution_count": 4
        }
      ]
    },
    {
      "cell_type": "code",
      "execution_count": 5,
      "metadata": {
        "colab": {
          "base_uri": "https://localhost:8080/"
        },
        "id": "fb-sHH5cgPC1",
        "outputId": "aad0ff3f-b872-4f56-c26e-a99600f519e1"
      },
      "outputs": [
        {
          "output_type": "execute_result",
          "data": {
            "text/plain": [
              "array([1, 2, 0])"
            ]
          },
          "metadata": {},
          "execution_count": 5
        }
      ],
      "source": [
        "data['strength'].unique()"
      ]
    },
    {
      "cell_type": "markdown",
      "metadata": {
        "id": "VG3g5u0LgPC2"
      },
      "source": [
        "#### Code to check all the missing values in my dataset"
      ]
    },
    {
      "cell_type": "code",
      "execution_count": 6,
      "metadata": {
        "colab": {
          "base_uri": "https://localhost:8080/"
        },
        "id": "jt5lHVkEgPC2",
        "outputId": "0073d7b3-a88f-421a-c13c-785315cac007"
      },
      "outputs": [
        {
          "output_type": "execute_result",
          "data": {
            "text/plain": [
              "password    1\n",
              "strength    0\n",
              "dtype: int64"
            ]
          },
          "metadata": {},
          "execution_count": 6
        }
      ],
      "source": [
        "data.isna().sum()"
      ]
    },
    {
      "cell_type": "code",
      "execution_count": 7,
      "metadata": {
        "colab": {
          "base_uri": "https://localhost:8080/",
          "height": 81
        },
        "id": "cl20-1CPgPC3",
        "outputId": "3045cbf5-cc3d-402a-c42f-9cb5242e6a65"
      },
      "outputs": [
        {
          "output_type": "execute_result",
          "data": {
            "text/plain": [
              "       password  strength\n",
              "367579      NaN         0"
            ],
            "text/html": [
              "\n",
              "  <div id=\"df-dacf6934-29ad-40eb-ad53-7b5d7fd4ff49\">\n",
              "    <div class=\"colab-df-container\">\n",
              "      <div>\n",
              "<style scoped>\n",
              "    .dataframe tbody tr th:only-of-type {\n",
              "        vertical-align: middle;\n",
              "    }\n",
              "\n",
              "    .dataframe tbody tr th {\n",
              "        vertical-align: top;\n",
              "    }\n",
              "\n",
              "    .dataframe thead th {\n",
              "        text-align: right;\n",
              "    }\n",
              "</style>\n",
              "<table border=\"1\" class=\"dataframe\">\n",
              "  <thead>\n",
              "    <tr style=\"text-align: right;\">\n",
              "      <th></th>\n",
              "      <th>password</th>\n",
              "      <th>strength</th>\n",
              "    </tr>\n",
              "  </thead>\n",
              "  <tbody>\n",
              "    <tr>\n",
              "      <th>367579</th>\n",
              "      <td>NaN</td>\n",
              "      <td>0</td>\n",
              "    </tr>\n",
              "  </tbody>\n",
              "</table>\n",
              "</div>\n",
              "      <button class=\"colab-df-convert\" onclick=\"convertToInteractive('df-dacf6934-29ad-40eb-ad53-7b5d7fd4ff49')\"\n",
              "              title=\"Convert this dataframe to an interactive table.\"\n",
              "              style=\"display:none;\">\n",
              "        \n",
              "  <svg xmlns=\"http://www.w3.org/2000/svg\" height=\"24px\"viewBox=\"0 0 24 24\"\n",
              "       width=\"24px\">\n",
              "    <path d=\"M0 0h24v24H0V0z\" fill=\"none\"/>\n",
              "    <path d=\"M18.56 5.44l.94 2.06.94-2.06 2.06-.94-2.06-.94-.94-2.06-.94 2.06-2.06.94zm-11 1L8.5 8.5l.94-2.06 2.06-.94-2.06-.94L8.5 2.5l-.94 2.06-2.06.94zm10 10l.94 2.06.94-2.06 2.06-.94-2.06-.94-.94-2.06-.94 2.06-2.06.94z\"/><path d=\"M17.41 7.96l-1.37-1.37c-.4-.4-.92-.59-1.43-.59-.52 0-1.04.2-1.43.59L10.3 9.45l-7.72 7.72c-.78.78-.78 2.05 0 2.83L4 21.41c.39.39.9.59 1.41.59.51 0 1.02-.2 1.41-.59l7.78-7.78 2.81-2.81c.8-.78.8-2.07 0-2.86zM5.41 20L4 18.59l7.72-7.72 1.47 1.35L5.41 20z\"/>\n",
              "  </svg>\n",
              "      </button>\n",
              "      \n",
              "  <style>\n",
              "    .colab-df-container {\n",
              "      display:flex;\n",
              "      flex-wrap:wrap;\n",
              "      gap: 12px;\n",
              "    }\n",
              "\n",
              "    .colab-df-convert {\n",
              "      background-color: #E8F0FE;\n",
              "      border: none;\n",
              "      border-radius: 50%;\n",
              "      cursor: pointer;\n",
              "      display: none;\n",
              "      fill: #1967D2;\n",
              "      height: 32px;\n",
              "      padding: 0 0 0 0;\n",
              "      width: 32px;\n",
              "    }\n",
              "\n",
              "    .colab-df-convert:hover {\n",
              "      background-color: #E2EBFA;\n",
              "      box-shadow: 0px 1px 2px rgba(60, 64, 67, 0.3), 0px 1px 3px 1px rgba(60, 64, 67, 0.15);\n",
              "      fill: #174EA6;\n",
              "    }\n",
              "\n",
              "    [theme=dark] .colab-df-convert {\n",
              "      background-color: #3B4455;\n",
              "      fill: #D2E3FC;\n",
              "    }\n",
              "\n",
              "    [theme=dark] .colab-df-convert:hover {\n",
              "      background-color: #434B5C;\n",
              "      box-shadow: 0px 1px 3px 1px rgba(0, 0, 0, 0.15);\n",
              "      filter: drop-shadow(0px 1px 2px rgba(0, 0, 0, 0.3));\n",
              "      fill: #FFFFFF;\n",
              "    }\n",
              "  </style>\n",
              "\n",
              "      <script>\n",
              "        const buttonEl =\n",
              "          document.querySelector('#df-dacf6934-29ad-40eb-ad53-7b5d7fd4ff49 button.colab-df-convert');\n",
              "        buttonEl.style.display =\n",
              "          google.colab.kernel.accessAllowed ? 'block' : 'none';\n",
              "\n",
              "        async function convertToInteractive(key) {\n",
              "          const element = document.querySelector('#df-dacf6934-29ad-40eb-ad53-7b5d7fd4ff49');\n",
              "          const dataTable =\n",
              "            await google.colab.kernel.invokeFunction('convertToInteractive',\n",
              "                                                     [key], {});\n",
              "          if (!dataTable) return;\n",
              "\n",
              "          const docLinkHtml = 'Like what you see? Visit the ' +\n",
              "            '<a target=\"_blank\" href=https://colab.research.google.com/notebooks/data_table.ipynb>data table notebook</a>'\n",
              "            + ' to learn more about interactive tables.';\n",
              "          element.innerHTML = '';\n",
              "          dataTable['output_type'] = 'display_data';\n",
              "          await google.colab.output.renderOutput(dataTable, element);\n",
              "          const docLink = document.createElement('div');\n",
              "          docLink.innerHTML = docLinkHtml;\n",
              "          element.appendChild(docLink);\n",
              "        }\n",
              "      </script>\n",
              "    </div>\n",
              "  </div>\n",
              "  "
            ]
          },
          "metadata": {},
          "execution_count": 7
        }
      ],
      "source": [
        "data[data['password'].isnull()]"
      ]
    },
    {
      "cell_type": "code",
      "execution_count": 8,
      "metadata": {
        "id": "yMRwL9F7gPC3"
      },
      "outputs": [],
      "source": [
        "data.dropna(inplace=True)"
      ]
    },
    {
      "cell_type": "code",
      "execution_count": 9,
      "metadata": {
        "colab": {
          "base_uri": "https://localhost:8080/"
        },
        "id": "w4Me2CiVgPC4",
        "outputId": "2b61950a-a9e5-4ed7-a493-a9111fad84a3"
      },
      "outputs": [
        {
          "output_type": "execute_result",
          "data": {
            "text/plain": [
              "password    0\n",
              "strength    0\n",
              "dtype: int64"
            ]
          },
          "metadata": {},
          "execution_count": 9
        }
      ],
      "source": [
        "data.isnull().sum()"
      ]
    },
    {
      "cell_type": "code",
      "execution_count": 10,
      "metadata": {
        "colab": {
          "base_uri": "https://localhost:8080/",
          "height": 296
        },
        "id": "S3Y3xTesgPC4",
        "outputId": "5ba83656-ed4f-4785-ccdd-5430846ab934"
      },
      "outputs": [
        {
          "output_type": "execute_result",
          "data": {
            "text/plain": [
              "<matplotlib.axes._subplots.AxesSubplot at 0x7fde80545e90>"
            ]
          },
          "metadata": {},
          "execution_count": 10
        },
        {
          "output_type": "display_data",
          "data": {
            "text/plain": [
              "<Figure size 432x288 with 1 Axes>"
            ],
            "image/png": "[encoded data removed]"
          },
          "metadata": {
            "needs_background": "light"
          }
        }
      ],
      "source": [
        "sns.countplot(data['strength'])"
      ]
    },
    {
      "cell_type": "code",
      "execution_count": 11,
      "metadata": {
        "id": "NNgpHyhBgPC5"
      },
      "outputs": [],
      "source": [
        "password_tuple=np.array(data)"
      ]
    },
    {
      "cell_type": "code",
      "execution_count": 12,
      "metadata": {
        "colab": {
          "base_uri": "https://localhost:8080/"
        },
        "id": "6sE7TB_tgPC5",
        "outputId": "f9176721-6224-48a5-f78c-cbf40367324b"
      },
      "outputs": [
        {
          "output_type": "execute_result",
          "data": {
            "text/plain": [
              "array([['kzde5577', 1],\n",
              "       ['kino3434', 1],\n",
              "       ['visi7k1yr', 1],\n",
              "       ...,\n",
              "       ['184520socram', 1],\n",
              "       ['marken22a', 1],\n",
              "       ['fxx4pw4g', 1]], dtype=object)"
            ]
          },
          "metadata": {},
          "execution_count": 12
        }
      ],
      "source": [
        "password_tuple"
      ]
    },
    {
      "cell_type": "markdown",
      "metadata": {
        "id": "YfY1eBtYgPC5"
      },
      "source": [
        "#### Shuffling randomly for robustness"
      ]
    },
    {
      "cell_type": "code",
      "execution_count": 13,
      "metadata": {
        "id": "Jr9Mp8MogPC6"
      },
      "outputs": [],
      "source": [
        "import random\n",
        "random.shuffle(password_tuple)"
      ]
    },
    {
      "cell_type": "code",
      "execution_count": 14,
      "metadata": {
        "id": "gbb_dLUmgPC7"
      },
      "outputs": [],
      "source": [
        "x=[labels[0] for labels in password_tuple]\n",
        "y=[labels[1] for labels in password_tuple]"
      ]
    },
    {
      "cell_type": "code",
      "execution_count": 15,
      "metadata": {
        "colab": {
          "base_uri": "https://localhost:8080/"
        },
        "id": "1b2So-okgPC7",
        "outputId": "636e146a-9c4b-4a29-9ebb-8cd1b572b2f4"
      },
      "outputs": [
        {
          "output_type": "execute_result",
          "data": {
            "text/plain": [
              "['kzde5577',\n",
              " 'kino3434',\n",
              " 'kino3434',\n",
              " 'kino3434',\n",
              " 'megzy123',\n",
              " 'AVYq1lDE4MgAZfNt',\n",
              " 'AVYq1lDE4MgAZfNt',\n",
              " 'kino3434',\n",
              " 'lamborghin1',\n",
              " 'kino3434',\n",
              " 'u6c8vhow',\n",
              " 'v1118714',\n",
              " 'AVYq1lDE4MgAZfNt',\n",
              " '612035180tok',\n",
              " 'AVYq1lDE4MgAZfNt',\n",
              " 'jytifok873',\n",
              " '612035180tok',\n",
              " 'kino3434',\n",
              " 'lamborghin1',\n",
              " 'jerusalem393',\n",
              " 'universe2908',\n",
              " 'elyass15@ajilent-ci',\n",
              " 'kino3434',\n",
              " 'u6c8vhow',\n",
              " 'megzy123',\n",
              " 'intel1',\n",
              " 'as326159',\n",
              " 'universe2908',\n",
              " 'g067057895',\n",
              " 'czuodhj972',\n",
              " 'klara-tershina3H',\n",
              " 'sbl571017',\n",
              " '6975038lp',\n",
              " 'as326159',\n",
              " 'megzy123',\n",
              " '6975038lp',\n",
              " 'asv5o9yu',\n",
              " 'jytifok873',\n",
              " 'intel1',\n",
              " 'lsdlsd1',\n",
              " 'asv5o9yu',\n",
              " 'go7kew7a2po',\n",
              " 'lsdlsd1',\n",
              " 'fahad123',\n",
              " 'as326159',\n",
              " 'jytifok873',\n",
              " 'pHyqueDIyNQ8vmhb',\n",
              " 'olmaz.',\n",
              " 'memjan123',\n",
              " 'jerusalem393',\n",
              " 'as326159',\n",
              " 'cigicigi123',\n",
              " 'idofo673',\n",
              " 'ejeko677',\n",
              " 'fahad123',\n",
              " 'kswa2mrv',\n",
              " 'WUt9IZzE0OQ7PkNE',\n",
              " 'czuodhj972',\n",
              " 'kzde5577',\n",
              " 'b4NbTxDEyNgG141J',\n",
              " 'c3h8bkzr',\n",
              " 'klara-tershina3H',\n",
              " 'yitbos77',\n",
              " 'v1118714',\n",
              " 'sbl571017',\n",
              " 'intel1',\n",
              " 'khmer100.03278&?><Mnb',\n",
              " 'trabajonet9',\n",
              " 'go7kew7a2po',\n",
              " 'b4NbTxDEyNgG141J',\n",
              " 'lamborghin1',\n",
              " 'yqugu927',\n",
              " 'bozoxik602',\n",
              " 'schalke04',\n",
              " 'patri1973',\n",
              " 'intel1',\n",
              " 'as326159',\n",
              " 'elyass15@ajilent-ci',\n",
              " 'hpqkoxsn5',\n",
              " 'd04m11',\n",
              " 'yitbos77',\n",
              " 'jerusalem393',\n",
              " 'sbl571017',\n",
              " 'hayhayq2',\n",
              " 'gdfn76',\n",
              " 'u6c8vhow',\n",
              " 'hayhayq2',\n",
              " 'memjan123',\n",
              " 'kjkjkj1',\n",
              " 'czuodhj972',\n",
              " 'g067057895',\n",
              " 'sknq7m0',\n",
              " 'jalingo1',\n",
              " 'jerusalem393',\n",
              " 'k9b8cz6aj2',\n",
              " 'idofo673',\n",
              " '0169395484a',\n",
              " 'yqugu927',\n",
              " 'c3h8bkzr',\n",
              " 'bozoxik602',\n",
              " 'ga98SIzk0NwhiZaE',\n",
              " 'jalingo1',\n",
              " 'kswa2mrv',\n",
              " '838188linh',\n",
              " '929865yt',\n",
              " 'matiofox08',\n",
              " 'idofo673',\n",
              " '929865yt',\n",
              " 'kzde5577',\n",
              " 'kunyukbabi69',\n",
              " 'k9b8cz6aj2',\n",
              " 'mmm23mm',\n",
              " 'xiau5ff',\n",
              " 'c3h8bkzr',\n",
              " 'megzy123',\n",
              " 'icap12',\n",
              " 's4m2dx9e6',\n",
              " 'snolyuj04',\n",
              " 'gdfn76',\n",
              " 'd04m11',\n",
              " 'il0vey0u',\n",
              " 'rntprns7',\n",
              " 'lsdlsd1',\n",
              " 'kswa2mrv',\n",
              " 'elyass15@ajilent-ci',\n",
              " 'universe2908',\n",
              " 'fnmsdha476',\n",
              " '52558000aaa',\n",
              " 's4m2dx9e6',\n",
              " 'mickael12',\n",
              " 'fahad123',\n",
              " 'AVYq1lDE4MgAZfNt',\n",
              " 'znbl5tj1',\n",
              " 'icap12',\n",
              " 'kzde5577',\n",
              " 'universe2908',\n",
              " 'pHyqueDIyNQ8vmhb',\n",
              " 'elonex24',\n",
              " 'hpqkoxsn5',\n",
              " 'AVYq1lDE4MgAZfNt',\n",
              " 'gkrqjs6',\n",
              " 'z3ro1sm',\n",
              " 'v1118714',\n",
              " 'Iamthelegend1!',\n",
              " 'aquhih220',\n",
              " 'jytifok873',\n",
              " 'RPFUOUDQwMwVW0AS',\n",
              " 'w9209640',\n",
              " 'Iamthelegend1!',\n",
              " 's4m2dx9e6',\n",
              " 'exitos2009',\n",
              " 'ejeko677',\n",
              " 'icap12',\n",
              " 'mmm23mm',\n",
              " '12345yolanda',\n",
              " 'gdfn76',\n",
              " 'j09000',\n",
              " 'elyass15@ajilent-ci',\n",
              " '123477889a',\n",
              " 'gill02',\n",
              " '6975038lp',\n",
              " 'elyass15@ajilent-ci',\n",
              " 'WUt9IZzE0OQ7PkNE',\n",
              " 'kswa2mrv',\n",
              " 'AVYq1lDE4MgAZfNt',\n",
              " 'go7kew7a2po',\n",
              " 'sknq7m0',\n",
              " '3vszncp4',\n",
              " '0169395484a',\n",
              " 'rntprns7',\n",
              " 'klara-tershina3H',\n",
              " 'calcifer32',\n",
              " 'tin030201',\n",
              " 'pikey231',\n",
              " 'jonothepoop1',\n",
              " 'ns2b0727',\n",
              " '1972vishara',\n",
              " 'afs34214',\n",
              " 'hodygid757',\n",
              " 'omakiva153',\n",
              " 'ns2b0727',\n",
              " 'ns2b0727',\n",
              " '1972vishara',\n",
              " 'a2531106',\n",
              " '123maxbala',\n",
              " 'mickael12',\n",
              " 'hayhayq2',\n",
              " 'igejasy712',\n",
              " 'yllime123',\n",
              " 'jerusalem393',\n",
              " 'qn5xpg3k00',\n",
              " 'wisal1234',\n",
              " 'k9b8cz6aj2',\n",
              " 'fnmsdha476',\n",
              " 'puegwajy416',\n",
              " 'jonothepoop1',\n",
              " 'kswa2mrv',\n",
              " 'sknq7m0',\n",
              " 'znbl5tj1',\n",
              " 'change201',\n",
              " 'hayhayq2',\n",
              " 'asgaliu11',\n",
              " 'damyvo114',\n",
              " 'czuodhj972',\n",
              " '64959rodro',\n",
              " '123477889a',\n",
              " '20010509wang',\n",
              " 'kayal123',\n",
              " 'yu4cmn',\n",
              " 'tin030201',\n",
              " 'vehat387',\n",
              " 'matiofox08',\n",
              " 'v10rica',\n",
              " '746xitEGiqObog',\n",
              " 'b4NbTxDEyNgG141J',\n",
              " 'kino3434',\n",
              " 'kunyukbabi69',\n",
              " 'kVczcljg4OA25Aeb',\n",
              " 'w9209640',\n",
              " 'RPFUOUDQwMwVW0AS',\n",
              " 'RqsuUsDYxNgr8T40',\n",
              " 'damyvo114',\n",
              " 'cockw0mble',\n",
              " '123maxbala',\n",
              " '283671gus',\n",
              " 'z888888',\n",
              " 'lsdlsd1',\n",
              " '64959rodro',\n",
              " '4fqa52vecr',\n",
              " 'gandhi8513',\n",
              " 'intel1',\n",
              " 'patri1973',\n",
              " 'qn5xpg3k00',\n",
              " 'z888888',\n",
              " '52558000aaa',\n",
              " '159951josh',\n",
              " 'yut0838828185',\n",
              " '215466kenyi',\n",
              " 'poseidon2011',\n",
              " 'ga98SIzk0NwhiZaE',\n",
              " '2021848709.',\n",
              " 'WUt9IZzE0OQ7PkNE',\n",
              " 'X9WVojjE4MgVAIiR',\n",
              " 'u6c8vhow',\n",
              " 'demon10',\n",
              " 'kswa2mrv',\n",
              " 'pablo321159',\n",
              " '3y6iwef2g6',\n",
              " 'wisal1234',\n",
              " 'WUt9IZzE0OQ7PkNE',\n",
              " '10Erjrlmebup0n',\n",
              " 'alimagik1',\n",
              " 'cesarmaio1',\n",
              " 'schalke04',\n",
              " 'patty94',\n",
              " 'kikeq102',\n",
              " 'patty94',\n",
              " 'sarahi1628',\n",
              " 'holamundo1',\n",
              " 'ns2b0727',\n",
              " 'marita1',\n",
              " '26522876p',\n",
              " 'yu4cmn',\n",
              " 'trabajonet9',\n",
              " 'ns2b0727',\n",
              " 'fk9qi21m',\n",
              " 'jalal123456',\n",
              " 'e667794c1d',\n",
              " '2yz4ewwg',\n",
              " 'bellsuki1',\n",
              " 'il0vey0u',\n",
              " 'openup12',\n",
              " 'xiau5ff',\n",
              " 'Iamthelegend1!',\n",
              " 'b4NbTxDEyNgG141J',\n",
              " 'moimoimoi9',\n",
              " 'trabajonet9',\n",
              " 'exitos2009',\n",
              " 'ebacuro434',\n",
              " 'nello11',\n",
              " 'ycqtgdso3',\n",
              " 'potatobus150',\n",
              " '20010509wang',\n",
              " 'il0vey0u',\n",
              " 'd04m11',\n",
              " 'witek1709',\n",
              " 'atigi839',\n",
              " 's9830950044',\n",
              " 'asgaliu11',\n",
              " 'franczuk33',\n",
              " 'tia150979',\n",
              " 'UF1Z2WjE5Mg26R1K',\n",
              " 'kayal123',\n",
              " 'edcmki90',\n",
              " 'samael666',\n",
              " 'X9WVojjE4MgVAIiR',\n",
              " 'warriors08',\n",
              " 'abizar08',\n",
              " '2021848709.',\n",
              " '612035180tok',\n",
              " 'yk530mg8',\n",
              " 'kyxvufl37',\n",
              " 'jonothepoop1',\n",
              " 'rogyh820',\n",
              " 'frhnsvelhfr1',\n",
              " 'kry1z9',\n",
              " 'samael666',\n",
              " 'hodygid757',\n",
              " '33kanun03',\n",
              " '20010509wang',\n",
              " 'u6c8vhow',\n",
              " 'znbl5tj1',\n",
              " 'den019520',\n",
              " 'meriton23',\n",
              " 'calcifer32',\n",
              " '2akira2',\n",
              " 'openup12',\n",
              " 'AVYq1lDE4MgAZfNt',\n",
              " '52558000aaa',\n",
              " 'visi7k1yr',\n",
              " 'bellsuki1',\n",
              " 'trabajonet9',\n",
              " 'mario489800',\n",
              " '12345yolanda',\n",
              " 'yut0838828185',\n",
              " 'k9b8cz6aj2',\n",
              " 'exitos2009',\n",
              " '147963asd',\n",
              " 'faranumar91',\n",
              " '123net123',\n",
              " 'juliel009',\n",
              " 'portales1',\n",
              " 'ts34a3fodh3i',\n",
              " 'hqh2eYjQxOQPYIsA',\n",
              " 'x0004534',\n",
              " 'ycqtgdso3',\n",
              " '2fakjv',\n",
              " '10Erjrlmebup0n',\n",
              " 'mathilde54550',\n",
              " '2yz4ewwg',\n",
              " 'kunyukbabi69',\n",
              " 'klara-tershina3H',\n",
              " 'ekufite742',\n",
              " 'd4xQ3LjUwMQFVCYQ',\n",
              " 'XqMB7vDMzOQocAFV',\n",
              " 'hayhayq2',\n",
              " '612035180tok',\n",
              " 'AVYq1lDE4MgAZfNt',\n",
              " 'shotiko18',\n",
              " 'calcifer32',\n",
              " 'cesarmaio1',\n",
              " 'g067057895',\n",
              " 'a03242241431a',\n",
              " 'weicat12',\n",
              " 'abizar08',\n",
              " 'yy4129',\n",
              " 'gerardway1',\n",
              " 'tomas7896',\n",
              " 's0xwym7h',\n",
              " 'uou2dae',\n",
              " 'teste10',\n",
              " '1ngaymuadong',\n",
              " 'AS0130066',\n",
              " 'www32223222',\n",
              " 'tin030201',\n",
              " 'p2share',\n",
              " 'warriors08',\n",
              " 'a2486315',\n",
              " 'gerardway1',\n",
              " 'UF1Z2WjE5Mg26R1K',\n",
              " 'iwaguh884',\n",
              " 'kinga22',\n",
              " 'ok>bdk',\n",
              " 'djngeyut2707',\n",
              " 'edcmki90',\n",
              " 'fnmsdha476',\n",
              " 'edcmki90',\n",
              " 'iwaguh884',\n",
              " 'q0pv0fk',\n",
              " '5gzj5uf',\n",
              " '2GnTStTE4Mw4MTwv',\n",
              " 'ryjypes139',\n",
              " 'VMjz4eTkxNAbOyUU',\n",
              " '283671gus',\n",
              " 'nK0yKXTU0NQHZE2e',\n",
              " 'kyodai666',\n",
              " 'kuntz80',\n",
              " 'djngeyut2707',\n",
              " 'hayhayq2',\n",
              " 'z7zbgIDkzMQeHUd9',\n",
              " 'tahseen75',\n",
              " 'www32223222',\n",
              " 'aio42fv',\n",
              " 'ginger972',\n",
              " 'wuzyci421',\n",
              " 'clyioqzgw42',\n",
              " 'laedbchsx687',\n",
              " '123nicole',\n",
              " 'den019520',\n",
              " 'koabcswzt3',\n",
              " 'yllime123',\n",
              " 'yqugu927',\n",
              " '7mV0pKTA3MgHy8Jv',\n",
              " 'gerardway1',\n",
              " 'djngeyut2707',\n",
              " 'oscar69',\n",
              " 'mickael12',\n",
              " 'mayur@8netinfotech',\n",
              " '123477889a',\n",
              " 'patty94',\n",
              " 'jalingo1',\n",
              " 'calcifer32',\n",
              " 'taurofive16',\n",
              " 'lofebop480',\n",
              " 'jUV4dSDQwNwPpA36',\n",
              " 'znbl5tj1',\n",
              " 'a0972986650',\n",
              " 'a0972986650',\n",
              " 'hodygid757',\n",
              " 'sbaUsoTA1OAzuevI',\n",
              " 'elabadmin1386',\n",
              " 'laedbchsx687',\n",
              " '1234159hero',\n",
              " '746xitEGiqObog',\n",
              " '5gzj5uf',\n",
              " 'yu4cmn',\n",
              " 'mmm23mm',\n",
              " 'meriton23',\n",
              " 'kinga22',\n",
              " 'e667794c1d',\n",
              " '159951josh',\n",
              " 'kry1z9',\n",
              " 'witek1709',\n",
              " '746xitEGiqObog',\n",
              " 'teemteem97',\n",
              " 'aslpls2009',\n",
              " 'a2531106',\n",
              " 'gvczfel801',\n",
              " 'VMjz4eTkxNAbOyUU',\n",
              " 'faranumar91',\n",
              " 'wasanun13',\n",
              " 'yut0838828185',\n",
              " 'ikanez886',\n",
              " 'hqh2eYjQxOQPYIsA',\n",
              " 'meriton23',\n",
              " 'ixehawojEPe418',\n",
              " 'j09000',\n",
              " 'spl51190595',\n",
              " 'mike09',\n",
              " 'rakag279',\n",
              " '33kanun03',\n",
              " 'aslpls2009',\n",
              " '3vszncp4',\n",
              " 'den019520',\n",
              " 'idofo673',\n",
              " 'bgrvl80',\n",
              " 'mickael12',\n",
              " 'yu4cmn',\n",
              " 'clumsy0619',\n",
              " 'fnmsdha476',\n",
              " 'ga98SIzk0NwhiZaE',\n",
              " 'juany57',\n",
              " 'as326159',\n",
              " 'ns2b0727',\n",
              " 'xtswdypgh936',\n",
              " 'igejasy712',\n",
              " 'taurofive16',\n",
              " 'czuodhj972',\n",
              " 'exitos2009',\n",
              " 'clave08',\n",
              " 'mazdarx7',\n",
              " 'wxS2ztDk4OATjBfI',\n",
              " '2akira2',\n",
              " 'bencike7',\n",
              " 'holamundo1',\n",
              " 'cristiano7',\n",
              " 'AVYq1lDE4MgAZfNt',\n",
              " 'x0004534',\n",
              " '248sUqiFEJuRag',\n",
              " 'tia150979',\n",
              " 'legna13',\n",
              " 'jUV4dSDQwNwPpA36',\n",
              " 's0xwym7h',\n",
              " '64959rodro',\n",
              " 'bugatti01',\n",
              " '0VKWoODkwOAc0pZK',\n",
              " '64959rodro',\n",
              " 'parent777',\n",
              " '19821010a',\n",
              " 'examy624',\n",
              " 'znbl5tj1',\n",
              " 'sandra0547',\n",
              " '0870330135a',\n",
              " 'fbjurcd961',\n",
              " 'robot425',\n",
              " '631ihOZogELoVap',\n",
              " 'hlQ8gDTExMQWkeda',\n",
              " 'a110804032',\n",
              " 'fahad123',\n",
              " 'warriors08',\n",
              " '248sUqiFEJuRag',\n",
              " 'potatobus150',\n",
              " 'visi7k1yr',\n",
              " '4osxw4r',\n",
              " 'junaid5',\n",
              " 'lamborghin1',\n",
              " 'tin030201',\n",
              " 'yu86640132',\n",
              " 'llahetihw1',\n",
              " 'amandine666',\n",
              " 'vuqADUSatAJO800',\n",
              " 'cockw0mble',\n",
              " '1991vikash',\n",
              " '5gzj5uf',\n",
              " '0VKWoODkwOAc0pZK',\n",
              " 'urban1',\n",
              " 'yitbos77',\n",
              " 'bc5e4vca',\n",
              " 'kenneth610',\n",
              " 'UF1Z2WjE5Mg26R1K',\n",
              " '1qa2ws3ed4r',\n",
              " 'josue12',\n",
              " 'sofietou74',\n",
              " 'a2531106',\n",
              " 'jUV4dSDQwNwPpA36',\n",
              " 'sysoja794',\n",
              " 'openup12',\n",
              " 'legna13',\n",
              " 'gkrqjs6',\n",
              " 'bugatti01',\n",
              " 'servbot88',\n",
              " 'folashade1',\n",
              " 'p2share',\n",
              " 'vardhan19',\n",
              " 'sbaUsoTA1OAzuevI',\n",
              " 'pato221182',\n",
              " 'atigi839',\n",
              " '4TXr5KDYxNQVTo4g',\n",
              " 'hpqkoxsn5',\n",
              " 'koabcswzt3',\n",
              " 'bozoxik602',\n",
              " 'aio42fv',\n",
              " 'intel1',\n",
              " 'lamborghin1',\n",
              " 'acetita478',\n",
              " 'cUFUSYKIPuGo024',\n",
              " 'pugceya468',\n",
              " '26522876p',\n",
              " 'bozoxik602',\n",
              " 'rakag279',\n",
              " '16731673ir',\n",
              " 'go7kew7a2po',\n",
              " 'deryxi704',\n",
              " 'xlxlxl777',\n",
              " 'atigi839',\n",
              " 'webstudio8',\n",
              " 'ass359',\n",
              " 'khmer100.03278&?><Mnb',\n",
              " 'gozv3e5',\n",
              " 'control9',\n",
              " 'sydney213',\n",
              " 'aslanmarco007',\n",
              " 'x8512514',\n",
              " 'keithar1',\n",
              " 'warriors08',\n",
              " 'ryjypes139',\n",
              " 'gpc151192',\n",
              " 'synyxyr723',\n",
              " 'ekufite742',\n",
              " '123nicole',\n",
              " 'acetita478',\n",
              " 'sasuke4',\n",
              " '123456ts',\n",
              " 'barra23',\n",
              " 'kuntz80',\n",
              " 'wearehis7',\n",
              " 'plumilla1',\n",
              " 'yut0838828185',\n",
              " 'a03242241431a',\n",
              " 'ixehawojEPe418',\n",
              " 'pablo321159',\n",
              " 'megzy123',\n",
              " 'overlord3127',\n",
              " 'djngeyut2707',\n",
              " '12345yolanda',\n",
              " 'wycinu436',\n",
              " 'mussuh4',\n",
              " 'kuntz80',\n",
              " 'kinga22',\n",
              " 'mario489800',\n",
              " 'weicat12',\n",
              " 'jerusalem393',\n",
              " 'servbot88',\n",
              " 'gdfn76',\n",
              " 'z888888',\n",
              " 'rakag279',\n",
              " 'woaini0',\n",
              " 'omakiva153',\n",
              " 'ebogel225',\n",
              " 'deryxi704',\n",
              " 'oekojWyH120063',\n",
              " 'asgaliu11',\n",
              " 'megzy123',\n",
              " 'alhama11408',\n",
              " 'grazi0201',\n",
              " '600eretz',\n",
              " 'saule123',\n",
              " 'kunyukbabi69',\n",
              " '4osxw4r',\n",
              " 'AS0130066',\n",
              " 'ebacuro434',\n",
              " 'sandra0547',\n",
              " 'sbaUsoTA1OAzuevI',\n",
              " '26522876p',\n",
              " '0112358mayin0',\n",
              " 'fbjurcd961',\n",
              " 'pedronha96',\n",
              " 'qopybuxi2',\n",
              " 'zcsntdmhe098',\n",
              " 'qopybuxi2',\n",
              " 'zedika521',\n",
              " '123maxbala',\n",
              " 'tamanagung6',\n",
              " 'alhama11408',\n",
              " 'ok>bdk',\n",
              " 'd04m11',\n",
              " 'josef0867',\n",
              " '23deagosto',\n",
              " 'mark11',\n",
              " '4lgYVfzk1MwuzHcn',\n",
              " 's9830950044',\n",
              " 'jcav26',\n",
              " 'j2yj2yj2y',\n",
              " 'hpqkoxsn5',\n",
              " 'hqh2eYjQxOQPYIsA',\n",
              " 'tahseen75',\n",
              " 'pastorius88',\n",
              " 'den019520',\n",
              " 'mario489800',\n",
              " 'studenko123',\n",
              " 'sergius1964',\n",
              " 'examy624',\n",
              " 'gracimir87',\n",
              " 'cesarmaio1',\n",
              " 'taulant123',\n",
              " 'tukaxo486',\n",
              " 'Scipio21152030067254',\n",
              " 'seller1',\n",
              " '2652033abc',\n",
              " 'princ3sa',\n",
              " 'marita1',\n",
              " '4osxw4r',\n",
              " 'ejeko677',\n",
              " 'umetic21',\n",
              " 'X34y2CzY5MACs6kp',\n",
              " 'g067057895',\n",
              " '07dpv1127b',\n",
              " '4osxw4r',\n",
              " 'ryjypes139',\n",
              " 'faranumar91',\n",
              " 'mickael12',\n",
              " 'UF1Z2WjE5Mg26R1K',\n",
              " 'yjuqseb416',\n",
              " 'taurofive16',\n",
              " 'wxS2ztDk4OATjBfI',\n",
              " 'x8512514',\n",
              " 'QWERTY0011',\n",
              " 'il0vey0u',\n",
              " 'mike09',\n",
              " 'z3ro1sm',\n",
              " 'groster152',\n",
              " 'elyass15@ajilent-ci',\n",
              " 'clave2013',\n",
              " 'krishna2',\n",
              " 'calcifer32',\n",
              " 'saule123',\n",
              " 'asdasdf1',\n",
              " 'faisal213',\n",
              " 'popo0404',\n",
              " 'colorado27',\n",
              " 'ixehawojEPe418',\n",
              " '248sUqiFEJuRag',\n",
              " 'butisugo39',\n",
              " '1w2e3s4l5e6y',\n",
              " 'faranumar91',\n",
              " 'bozoxik602',\n",
              " 'finisterra1',\n",
              " 'parent777',\n",
              " 'alimagik1',\n",
              " 'kabrito1',\n",
              " 'rntprns7',\n",
              " 'clyioqzgw42',\n",
              " 'aqyba894',\n",
              " 'senghong2009',\n",
              " 'medebizu3',\n",
              " 'bc5e4vca',\n",
              " '01161590m',\n",
              " 'z3ro1sm',\n",
              " 'maulana79',\n",
              " '2010server',\n",
              " 'wuzyci421',\n",
              " 'x8512514',\n",
              " 'ajyrew547',\n",
              " '5874813o',\n",
              " 'ilunia20',\n",
              " '7mV0pKTA3MgHy8Jv',\n",
              " '9950twofour0',\n",
              " 'ninja420',\n",
              " 'fk9qi21m',\n",
              " 'afavin964',\n",
              " 'papasito1991',\n",
              " 'vgnfs495vp',\n",
              " 'kevin24',\n",
              " '2GnTStTE4Mw4MTwv',\n",
              " 'exusop649',\n",
              " 'gohan2602',\n",
              " 'moimoimoi9',\n",
              " 'nLIGyhTU1NQTAp6u',\n",
              " 'koulapic33',\n",
              " 'demon10',\n",
              " 'Scipio21152030067254',\n",
              " 'afs34214',\n",
              " 'Zdyf0kjMzNQycqPx',\n",
              " 'avanakit72',\n",
              " 'kukimuki123',\n",
              " 'kikeq102',\n",
              " 'Staterkom20081993',\n",
              " 'satrjcrj6',\n",
              " 'znbl5tj1',\n",
              " 'hayhayq2',\n",
              " 'w1ll1ams',\n",
              " 'elabadmin1386',\n",
              " 'macias2010',\n",
              " 'cockw0mble',\n",
              " 'mashhood_afzal21087',\n",
              " 'pxjwmeqyn5',\n",
              " 'witek1709',\n",
              " 'hodygid757',\n",
              " 'nokia6020',\n",
              " 'kah4544875',\n",
              " 'kyodai666',\n",
              " 'yami12',\n",
              " 'yuri110995',\n",
              " 'patri1973',\n",
              " 'iwaguh884',\n",
              " 'pablo321159',\n",
              " 'synyxyr723',\n",
              " 'wo9aiwangyan',\n",
              " '123maxbala',\n",
              " 'gedu1t1ah',\n",
              " 'mathilde54550',\n",
              " 'senghong2009',\n",
              " 'jEzZXUTE3MgJ4fVk',\n",
              " '1991vikash',\n",
              " 'plumilla1',\n",
              " 'cUFUSYKIPuGo024',\n",
              " '1qa2ws3ed4r',\n",
              " 'ram@!sita15392',\n",
              " 'hodaq103',\n",
              " 'qn5xpg3k00',\n",
              " 'iprwxmfk84',\n",
              " 'marita1',\n",
              " 'sanjaime1',\n",
              " 'gill02',\n",
              " 'b98nwtpriyesh',\n",
              " 'www32223222',\n",
              " 'jntjmh7',\n",
              " 'x0004534',\n",
              " 'shotiko18',\n",
              " '1972vishara',\n",
              " 'PEPITO00',\n",
              " 'kyxvufl37',\n",
              " 'password0880',\n",
              " 'pekai2004',\n",
              " 'ns2b0727',\n",
              " '283671gus',\n",
              " 'uqilyni846',\n",
              " 'darza6534',\n",
              " 'pastorius88',\n",
              " 'RRaa--72783530081984',\n",
              " 'diarie1',\n",
              " '1234159hero',\n",
              " 'RqsuUsDYxNgr8T40',\n",
              " '123maxbala',\n",
              " 'oioo9og',\n",
              " '1972vishara',\n",
              " '1k9izx',\n",
              " 'a2486315',\n",
              " 'planes123',\n",
              " 'nhfdff2512',\n",
              " '2yz4ewwg',\n",
              " '0123one47',\n",
              " 'clumsy0619',\n",
              " 'jsm159167',\n",
              " 'mazdarx7',\n",
              " 'grazi0201',\n",
              " 'gkrqjs6',\n",
              " 'jerusalem393',\n",
              " 'seeyouagain1',\n",
              " '7942vikas',\n",
              " 'meriton23',\n",
              " 'jose30209',\n",
              " 'ubojig109',\n",
              " 'h1h2h3h4h5',\n",
              " 'jytifok873',\n",
              " 'djda1203zj',\n",
              " 'gonzalez1559',\n",
              " 'sono11',\n",
              " 'p@sslng2diword',\n",
              " 'just1n0k',\n",
              " '64959rodro',\n",
              " 'seng987321',\n",
              " 'aosmaxd0',\n",
              " 'ahibyg892',\n",
              " 'darza6534',\n",
              " 'tim80327',\n",
              " 'satrjcrj6',\n",
              " 'pmcm110118008',\n",
              " 'oscar69',\n",
              " 'kubafu77',\n",
              " 'IjUcOtYqAwel725',\n",
              " 'fahad123',\n",
              " 'aziz098765',\n",
              " 'polo2014',\n",
              " 'satrjcrj6',\n",
              " 'jesmond26',\n",
              " 'LypOJUfuLYrO477',\n",
              " 'uxyloga692',\n",
              " 'damyvo114',\n",
              " 'juliel009',\n",
              " 'shH3t7TcyOQwKRLt',\n",
              " 'krowka18',\n",
              " 'bjolgvhs69',\n",
              " 'a110804032',\n",
              " 'sanjaime1',\n",
              " 'samemene@sm',\n",
              " 'rrilni1747',\n",
              " 'luthien123',\n",
              " 'midgeman8505',\n",
              " 'zu20081965',\n",
              " 'cockw0mble',\n",
              " 'examy624',\n",
              " 'markama10',\n",
              " 'trabajonet9',\n",
              " 'pastorius88',\n",
              " '1katertje',\n",
              " '2akira2',\n",
              " 'wxS2ztDk4OATjBfI',\n",
              " 'yjuqseb416',\n",
              " 'seng987321',\n",
              " 'hylefup708',\n",
              " 'jalal123456',\n",
              " 'change201',\n",
              " 'RRaa--72783530081984',\n",
              " '7942vikas',\n",
              " 'acgyj188',\n",
              " 'ydkmujrze3',\n",
              " 'aio42fv',\n",
              " 'hosna1368',\n",
              " 'kyodai666',\n",
              " 'xlxlxl777',\n",
              " 'yhigkenj5',\n",
              " 'kuntz80',\n",
              " 'ras996633',\n",
              " 'akucinta12',\n",
              " 'universe2908',\n",
              " 'visi7k1yr',\n",
              " 'rrilni1747',\n",
              " 'regodib479',\n",
              " '101010hadis',\n",
              " 'zoobike04',\n",
              " 'ihana906',\n",
              " 'djda1203zj',\n",
              " 'icap12',\n",
              " 'aa123000',\n",
              " 'djda1203zj',\n",
              " 'limichan99',\n",
              " 'trust123',\n",
              " 'hello2104',\n",
              " 'sasuke4',\n",
              " '01161590m',\n",
              " 'JEQuloqOFUd102',\n",
              " 'oioo9og',\n",
              " '101010hadis',\n",
              " 'cc71797805',\n",
              " 'xawipy995',\n",
              " 'metopelo1623',\n",
              " 'irivur594',\n",
              " 'z3ro1sm',\n",
              " 'servbot88',\n",
              " 'laedbchsx687',\n",
              " 'koulapic33',\n",
              " 'J0LcDWDc2NAVE8j3',\n",
              " 'igoj0w740luj',\n",
              " 'gkhan01',\n",
              " 'moken7',\n",
              " 'pxjwmeqyn5',\n",
              " 'r0cker',\n",
              " 'wycinu436',\n",
              " 'pekai2004',\n",
              " '2yz4ewwg',\n",
              " 'gedu1t1ah',\n",
              " 'walterivl13',\n",
              " 'yy4129',\n",
              " 'trabajonet9',\n",
              " 'p2share',\n",
              " 'legna13',\n",
              " 'jEzZXUTE3MgJ4fVk',\n",
              " 'ydd45ee',\n",
              " 'alhama11408',\n",
              " 'metopelo1623',\n",
              " 'nicolas05',\n",
              " 'X34y2CzY5MACs6kp',\n",
              " 'synyxyr723',\n",
              " 'xawipy995',\n",
              " 'sebo82',\n",
              " 'mashhood_afzal21087',\n",
              " 'Jovan13lovekenthjusvan4ever',\n",
              " '0169395484a',\n",
              " 'amandine666',\n",
              " 'u6c8vhow',\n",
              " 'growerz543',\n",
              " 'gerardway1',\n",
              " 'lsdlsd1',\n",
              " 'bugatti01',\n",
              " 'ewvjbilan4',\n",
              " 'Oshity07142014',\n",
              " 'aslanmarco007',\n",
              " 'xknagqo92',\n",
              " 'X34y2CzY5MACs6kp',\n",
              " 'calung2007',\n",
              " 'gkrqjs6',\n",
              " 'kong0074',\n",
              " 'w1e2s3l4',\n",
              " '1991vikash',\n",
              " 'juliana19',\n",
              " 'hpqkoxsn5',\n",
              " 'ldteugao6',\n",
              " 'bgrvl80',\n",
              " 'bb9530',\n",
              " 'chuno8704',\n",
              " 'shotiko18',\n",
              " 'zedika521',\n",
              " 'AS0130066',\n",
              " 'q4Ger4OX7S2GZ3',\n",
              " 'kino3434',\n",
              " 'yv3hpf',\n",
              " 'patty94',\n",
              " '1ngaymuadong',\n",
              " 'just1n0k',\n",
              " 'emilly123',\n",
              " '4XakB8TkzOQWCS7Y',\n",
              " 'd6VyrkFV6oblxNs5N8cW',\n",
              " 'puegwajy416',\n",
              " 'IjUcOtYqAwel725',\n",
              " 'hot622204',\n",
              " 'kate13',\n",
              " 'jeckericek24',\n",
              " 'VMjz4eTkxNAbOyUU',\n",
              " '1justogax',\n",
              " 'hodygid757',\n",
              " 'ram@!sita15392',\n",
              " '763EBFC5',\n",
              " 'wuzyci421',\n",
              " 'znbl5tj1',\n",
              " 'qwe000',\n",
              " 'pacific52',\n",
              " 'vehat387',\n",
              " '10Elgei1ygybpw',\n",
              " '1907sedat58',\n",
              " 'kn217579',\n",
              " 'farrukhcse12',\n",
              " 'groster152',\n",
              " 'upyjlneg80',\n",
              " 'aa123000',\n",
              " '00J46LTAxMgME7C4',\n",
              " 'b98nwtpriyesh',\n",
              " 'hlQ8gDTExMQWkeda',\n",
              " 'j2yj2yj2y',\n",
              " 'r0cker',\n",
              " 'RqsuUsDYxNgr8T40',\n",
              " 'cacamania12',\n",
              " 'jgsxkcp639',\n",
              " 'kah4544875',\n",
              " '0lELoCDI1NAy8u7D',\n",
              " 'go7kew7a2po',\n",
              " 'sono11',\n",
              " 'papasito1991',\n",
              " 'whsatou0509',\n",
              " 'visi7k1yr',\n",
              " 'sun4shine76',\n",
              " 'before1go',\n",
              " 'l4torr3',\n",
              " 'hosna1368',\n",
              " 'synyxyr723',\n",
              " 'matiz4533',\n",
              " '358gohappy',\n",
              " 'walterivl13',\n",
              " 'pazzini24',\n",
              " 'taogamma21',\n",
              " ...]"
            ]
          },
          "metadata": {},
          "execution_count": 15
        }
      ],
      "source": [
        "x"
      ]
    },
    {
      "cell_type": "markdown",
      "metadata": {
        "id": "tHmk_ZuvgPC7"
      },
      "source": [
        "#### Create a custom function to split input into characters of list"
      ]
    },
    {
      "cell_type": "code",
      "execution_count": 16,
      "metadata": {
        "id": "sO_-hjCfgPC7"
      },
      "outputs": [],
      "source": [
        "def word_divide_char(inputs):\n",
        "    character=[]\n",
        "    for i in inputs:\n",
        "        character.append(i)\n",
        "    return character"
      ]
    },
    {
      "cell_type": "code",
      "execution_count": 17,
      "metadata": {
        "colab": {
          "base_uri": "https://localhost:8080/"
        },
        "id": "-QSQpIrEgPC8",
        "outputId": "746c3ff0-edb3-440d-8a78-3744decd58aa"
      },
      "outputs": [
        {
          "output_type": "execute_result",
          "data": {
            "text/plain": [
              "['n', 'e', 'w', '2', '3', '4', 'p', 'a', 's', 's', 'w', 'o', 'r', 'd']"
            ]
          },
          "metadata": {},
          "execution_count": 17
        }
      ],
      "source": [
        "word_divide_char('new234password')"
      ]
    },
    {
      "cell_type": "markdown",
      "metadata": {
        "id": "LFaOcTUDgPC8"
      },
      "source": [
        "#### Import Countvectorizer to convert String data into numerical data"
      ]
    },
    {
      "cell_type": "code",
      "execution_count": 18,
      "metadata": {
        "id": "sVr33O36gPC8"
      },
      "outputs": [],
      "source": [
        "from sklearn.feature_extraction.text import CountVectorizer"
      ]
    },
    {
      "cell_type": "code",
      "execution_count": 19,
      "metadata": {
        "id": "_MXKLkzKgPC8"
      },
      "outputs": [],
      "source": [
        "vectorizer=CountVectorizer(tokenizer=word_divide_char)"
      ]
    },
    {
      "cell_type": "markdown",
      "metadata": {
        "id": "Hnfj7aWegPC9"
      },
      "source": [
        "#### Apply Countvectorizer on data"
      ]
    },
    {
      "cell_type": "code",
      "execution_count": 20,
      "metadata": {
        "colab": {
          "base_uri": "https://localhost:8080/"
        },
        "id": "5vF0O7PXgPC9",
        "outputId": "d5c4219f-c824-408f-f9a7-34020742edd1"
      },
      "outputs": [
        {
          "output_type": "execute_result",
          "data": {
            "text/plain": [
              "<669639x125 sparse matrix of type '<class 'numpy.int64'>'\n",
              "\twith 5644922 stored elements in Compressed Sparse Row format>"
            ]
          },
          "metadata": {},
          "execution_count": 20
        }
      ],
      "source": [
        "X=vectorizer.fit_transform(x)\n",
        "X"
      ]
    },
    {
      "cell_type": "code",
      "execution_count": 21,
      "metadata": {
        "colab": {
          "base_uri": "https://localhost:8080/"
        },
        "id": "cKabH_SOgPC9",
        "outputId": "bc5002f2-97f0-4e31-bfa5-cfbaeec7c886"
      },
      "outputs": [
        {
          "output_type": "execute_result",
          "data": {
            "text/plain": [
              "(669639, 125)"
            ]
          },
          "metadata": {},
          "execution_count": 21
        }
      ],
      "source": [
        "X.shape"
      ]
    },
    {
      "cell_type": "code",
      "execution_count": 40,
      "metadata": {
        "colab": {
          "base_uri": "https://localhost:8080/"
        },
        "id": "yVrVI_ICgPC9",
        "outputId": "1a0be941-5f82-4155-b55c-4bde5353b437"
      },
      "outputs": [
        {
          "output_type": "execute_result",
          "data": {
            "text/plain": [
              "['\\x02',\n",
              " '\\x05',\n",
              " '\\x06',\n",
              " '\\x10',\n",
              " '\\x11',\n",
              " '\\x12',\n",
              " '\\x16',\n",
              " '\\x17',\n",
              " '\\x19',\n",
              " '\\x1b',\n",
              " '\\x1c',\n",
              " '\\x1e',\n",
              " ' ',\n",
              " '!',\n",
              " '\"',\n",
              " '#',\n",
              " '$',\n",
              " '%',\n",
              " '&',\n",
              " '(',\n",
              " ')',\n",
              " '*',\n",
              " '+',\n",
              " '-',\n",
              " '.',\n",
              " '/',\n",
              " '0',\n",
              " '1',\n",
              " '2',\n",
              " '3',\n",
              " '4',\n",
              " '5',\n",
              " '6',\n",
              " '7',\n",
              " '8',\n",
              " '9',\n",
              " ';',\n",
              " '<',\n",
              " '=',\n",
              " '>',\n",
              " '?',\n",
              " '@',\n",
              " '[',\n",
              " '\\\\',\n",
              " ']',\n",
              " '^',\n",
              " '_',\n",
              " '`',\n",
              " 'a',\n",
              " 'b',\n",
              " 'c',\n",
              " 'd',\n",
              " 'e',\n",
              " 'f',\n",
              " 'g',\n",
              " 'h',\n",
              " 'i',\n",
              " 'j',\n",
              " 'k',\n",
              " 'l',\n",
              " 'm',\n",
              " 'n',\n",
              " 'o',\n",
              " 'p',\n",
              " 'q',\n",
              " 'r',\n",
              " 's',\n",
              " 't',\n",
              " 'u',\n",
              " 'v',\n",
              " 'w',\n",
              " 'x',\n",
              " 'y',\n",
              " 'z',\n",
              " '{',\n",
              " '|',\n",
              " '}',\n",
              " '~',\n",
              " '\\x7f',\n",
              " '\\x81',\n",
              " '\\x8d',\n",
              " '\\xa0',\n",
              " '¡',\n",
              " '¤',\n",
              " '¨',\n",
              " '«',\n",
              " '°',\n",
              " '±',\n",
              " '²',\n",
              " '³',\n",
              " '´',\n",
              " 'µ',\n",
              " '·',\n",
              " 'º',\n",
              " '¾',\n",
              " '¿',\n",
              " 'ß',\n",
              " 'à',\n",
              " 'á',\n",
              " 'â',\n",
              " 'ä',\n",
              " 'å',\n",
              " 'æ',\n",
              " 'ç',\n",
              " 'è',\n",
              " 'é',\n",
              " 'í',\n",
              " 'ð',\n",
              " 'ñ',\n",
              " 'ò',\n",
              " 'ó',\n",
              " 'ô',\n",
              " 'õ',\n",
              " 'ö',\n",
              " '÷',\n",
              " 'ú',\n",
              " 'û',\n",
              " 'ü',\n",
              " 'ý',\n",
              " 'þ',\n",
              " 'ÿ',\n",
              " 'œ',\n",
              " '‚',\n",
              " '‹',\n",
              " '›']"
            ]
          },
          "metadata": {},
          "execution_count": 40
        }
      ],
      "source": [
        "vectorizer.get_feature_names()"
      ]
    },
    {
      "cell_type": "code",
      "execution_count": 23,
      "metadata": {
        "scrolled": false,
        "colab": {
          "base_uri": "https://localhost:8080/"
        },
        "id": "b_tl6qXXgPC-",
        "outputId": "3feab1ae-e566-43ad-f88b-f76828d93b6a"
      },
      "outputs": [
        {
          "output_type": "execute_result",
          "data": {
            "text/plain": [
              "<1x125 sparse matrix of type '<class 'numpy.int64'>'\n",
              "\twith 6 stored elements in Compressed Sparse Row format>"
            ]
          },
          "metadata": {},
          "execution_count": 23
        }
      ],
      "source": [
        "first_document_vector=X[0]\n",
        "first_document_vector"
      ]
    },
    {
      "cell_type": "code",
      "execution_count": 24,
      "metadata": {
        "colab": {
          "base_uri": "https://localhost:8080/"
        },
        "id": "mDG-N12OgPC-",
        "outputId": "98fe93a8-d300-4038-9e01-3ae7890a81f4"
      },
      "outputs": [
        {
          "output_type": "execute_result",
          "data": {
            "text/plain": [
              "array([[0],\n",
              "       [0],\n",
              "       [0],\n",
              "       [0],\n",
              "       [0],\n",
              "       [0],\n",
              "       [0],\n",
              "       [0],\n",
              "       [0],\n",
              "       [0],\n",
              "       [0],\n",
              "       [0],\n",
              "       [0],\n",
              "       [0],\n",
              "       [0],\n",
              "       [0],\n",
              "       [0],\n",
              "       [0],\n",
              "       [0],\n",
              "       [0],\n",
              "       [0],\n",
              "       [0],\n",
              "       [0],\n",
              "       [0],\n",
              "       [0],\n",
              "       [0],\n",
              "       [0],\n",
              "       [0],\n",
              "       [0],\n",
              "       [0],\n",
              "       [0],\n",
              "       [2],\n",
              "       [0],\n",
              "       [2],\n",
              "       [0],\n",
              "       [0],\n",
              "       [0],\n",
              "       [0],\n",
              "       [0],\n",
              "       [0],\n",
              "       [0],\n",
              "       [0],\n",
              "       [0],\n",
              "       [0],\n",
              "       [0],\n",
              "       [0],\n",
              "       [0],\n",
              "       [0],\n",
              "       [0],\n",
              "       [0],\n",
              "       [0],\n",
              "       [1],\n",
              "       [1],\n",
              "       [0],\n",
              "       [0],\n",
              "       [0],\n",
              "       [0],\n",
              "       [0],\n",
              "       [1],\n",
              "       [0],\n",
              "       [0],\n",
              "       [0],\n",
              "       [0],\n",
              "       [0],\n",
              "       [0],\n",
              "       [0],\n",
              "       [0],\n",
              "       [0],\n",
              "       [0],\n",
              "       [0],\n",
              "       [0],\n",
              "       [0],\n",
              "       [0],\n",
              "       [1],\n",
              "       [0],\n",
              "       [0],\n",
              "       [0],\n",
              "       [0],\n",
              "       [0],\n",
              "       [0],\n",
              "       [0],\n",
              "       [0],\n",
              "       [0],\n",
              "       [0],\n",
              "       [0],\n",
              "       [0],\n",
              "       [0],\n",
              "       [0],\n",
              "       [0],\n",
              "       [0],\n",
              "       [0],\n",
              "       [0],\n",
              "       [0],\n",
              "       [0],\n",
              "       [0],\n",
              "       [0],\n",
              "       [0],\n",
              "       [0],\n",
              "       [0],\n",
              "       [0],\n",
              "       [0],\n",
              "       [0],\n",
              "       [0],\n",
              "       [0],\n",
              "       [0],\n",
              "       [0],\n",
              "       [0],\n",
              "       [0],\n",
              "       [0],\n",
              "       [0],\n",
              "       [0],\n",
              "       [0],\n",
              "       [0],\n",
              "       [0],\n",
              "       [0],\n",
              "       [0],\n",
              "       [0],\n",
              "       [0],\n",
              "       [0],\n",
              "       [0],\n",
              "       [0],\n",
              "       [0],\n",
              "       [0],\n",
              "       [0],\n",
              "       [0]])"
            ]
          },
          "metadata": {},
          "execution_count": 24
        }
      ],
      "source": [
        "first_document_vector.T.toarray()"
      ]
    },
    {
      "cell_type": "code",
      "execution_count": 25,
      "metadata": {
        "colab": {
          "base_uri": "https://localhost:8080/",
          "height": 424
        },
        "id": "P9bSxjqvgPC-",
        "outputId": "fa9d7065-b1b5-4371-929a-b9f429631b06"
      },
      "outputs": [
        {
          "output_type": "execute_result",
          "data": {
            "text/plain": [
              "    CountVectorizer\n",
              "5                 2\n",
              "7                 2\n",
              "z                 1\n",
              "d                 1\n",
              "k                 1\n",
              "..              ...\n",
              "<                 0\n",
              ";                 0\n",
              "9                 0\n",
              "8                 0\n",
              "›                 0\n",
              "\n",
              "[125 rows x 1 columns]"
            ],
            "text/html": [
              "\n",
              "  <div id=\"df-bbeaf22f-14c3-4d6a-bf30-a15190037b98\">\n",
              "    <div class=\"colab-df-container\">\n",
              "      <div>\n",
              "<style scoped>\n",
              "    .dataframe tbody tr th:only-of-type {\n",
              "        vertical-align: middle;\n",
              "    }\n",
              "\n",
              "    .dataframe tbody tr th {\n",
              "        vertical-align: top;\n",
              "    }\n",
              "\n",
              "    .dataframe thead th {\n",
              "        text-align: right;\n",
              "    }\n",
              "</style>\n",
              "<table border=\"1\" class=\"dataframe\">\n",
              "  <thead>\n",
              "    <tr style=\"text-align: right;\">\n",
              "      <th></th>\n",
              "      <th>CountVectorizer</th>\n",
              "    </tr>\n",
              "  </thead>\n",
              "  <tbody>\n",
              "    <tr>\n",
              "      <th>5</th>\n",
              "      <td>2</td>\n",
              "    </tr>\n",
              "    <tr>\n",
              "      <th>7</th>\n",
              "      <td>2</td>\n",
              "    </tr>\n",
              "    <tr>\n",
              "      <th>z</th>\n",
              "      <td>1</td>\n",
              "    </tr>\n",
              "    <tr>\n",
              "      <th>d</th>\n",
              "      <td>1</td>\n",
              "    </tr>\n",
              "    <tr>\n",
              "      <th>k</th>\n",
              "      <td>1</td>\n",
              "    </tr>\n",
              "    <tr>\n",
              "      <th>...</th>\n",
              "      <td>...</td>\n",
              "    </tr>\n",
              "    <tr>\n",
              "      <th>&lt;</th>\n",
              "      <td>0</td>\n",
              "    </tr>\n",
              "    <tr>\n",
              "      <th>;</th>\n",
              "      <td>0</td>\n",
              "    </tr>\n",
              "    <tr>\n",
              "      <th>9</th>\n",
              "      <td>0</td>\n",
              "    </tr>\n",
              "    <tr>\n",
              "      <th>8</th>\n",
              "      <td>0</td>\n",
              "    </tr>\n",
              "    <tr>\n",
              "      <th>›</th>\n",
              "      <td>0</td>\n",
              "    </tr>\n",
              "  </tbody>\n",
              "</table>\n",
              "<p>125 rows × 1 columns</p>\n",
              "</div>\n",
              "      <button class=\"colab-df-convert\" onclick=\"convertToInteractive('df-bbeaf22f-14c3-4d6a-bf30-a15190037b98')\"\n",
              "              title=\"Convert this dataframe to an interactive table.\"\n",
              "              style=\"display:none;\">\n",
              "        \n",
              "  <svg xmlns=\"http://www.w3.org/2000/svg\" height=\"24px\"viewBox=\"0 0 24 24\"\n",
              "       width=\"24px\">\n",
              "    <path d=\"M0 0h24v24H0V0z\" fill=\"none\"/>\n",
              "    <path d=\"M18.56 5.44l.94 2.06.94-2.06 2.06-.94-2.06-.94-.94-2.06-.94 2.06-2.06.94zm-11 1L8.5 8.5l.94-2.06 2.06-.94-2.06-.94L8.5 2.5l-.94 2.06-2.06.94zm10 10l.94 2.06.94-2.06 2.06-.94-2.06-.94-.94-2.06-.94 2.06-2.06.94z\"/><path d=\"M17.41 7.96l-1.37-1.37c-.4-.4-.92-.59-1.43-.59-.52 0-1.04.2-1.43.59L10.3 9.45l-7.72 7.72c-.78.78-.78 2.05 0 2.83L4 21.41c.39.39.9.59 1.41.59.51 0 1.02-.2 1.41-.59l7.78-7.78 2.81-2.81c.8-.78.8-2.07 0-2.86zM5.41 20L4 18.59l7.72-7.72 1.47 1.35L5.41 20z\"/>\n",
              "  </svg>\n",
              "      </button>\n",
              "      \n",
              "  <style>\n",
              "    .colab-df-container {\n",
              "      display:flex;\n",
              "      flex-wrap:wrap;\n",
              "      gap: 12px;\n",
              "    }\n",
              "\n",
              "    .colab-df-convert {\n",
              "      background-color: #E8F0FE;\n",
              "      border: none;\n",
              "      border-radius: 50%;\n",
              "      cursor: pointer;\n",
              "      display: none;\n",
              "      fill: #1967D2;\n",
              "      height: 32px;\n",
              "      padding: 0 0 0 0;\n",
              "      width: 32px;\n",
              "    }\n",
              "\n",
              "    .colab-df-convert:hover {\n",
              "      background-color: #E2EBFA;\n",
              "      box-shadow: 0px 1px 2px rgba(60, 64, 67, 0.3), 0px 1px 3px 1px rgba(60, 64, 67, 0.15);\n",
              "      fill: #174EA6;\n",
              "    }\n",
              "\n",
              "    [theme=dark] .colab-df-convert {\n",
              "      background-color: #3B4455;\n",
              "      fill: #D2E3FC;\n",
              "    }\n",
              "\n",
              "    [theme=dark] .colab-df-convert:hover {\n",
              "      background-color: #434B5C;\n",
              "      box-shadow: 0px 1px 3px 1px rgba(0, 0, 0, 0.15);\n",
              "      filter: drop-shadow(0px 1px 2px rgba(0, 0, 0, 0.3));\n",
              "      fill: #FFFFFF;\n",
              "    }\n",
              "  </style>\n",
              "\n",
              "      <script>\n",
              "        const buttonEl =\n",
              "          document.querySelector('#df-bbeaf22f-14c3-4d6a-bf30-a15190037b98 button.colab-df-convert');\n",
              "        buttonEl.style.display =\n",
              "          google.colab.kernel.accessAllowed ? 'block' : 'none';\n",
              "\n",
              "        async function convertToInteractive(key) {\n",
              "          const element = document.querySelector('#df-bbeaf22f-14c3-4d6a-bf30-a15190037b98');\n",
              "          const dataTable =\n",
              "            await google.colab.kernel.invokeFunction('convertToInteractive',\n",
              "                                                     [key], {});\n",
              "          if (!dataTable) return;\n",
              "\n",
              "          const docLinkHtml = 'Like what you see? Visit the ' +\n",
              "            '<a target=\"_blank\" href=https://colab.research.google.com/notebooks/data_table.ipynb>data table notebook</a>'\n",
              "            + ' to learn more about interactive tables.';\n",
              "          element.innerHTML = '';\n",
              "          dataTable['output_type'] = 'display_data';\n",
              "          await google.colab.output.renderOutput(dataTable, element);\n",
              "          const docLink = document.createElement('div');\n",
              "          docLink.innerHTML = docLinkHtml;\n",
              "          element.appendChild(docLink);\n",
              "        }\n",
              "      </script>\n",
              "    </div>\n",
              "  </div>\n",
              "  "
            ]
          },
          "metadata": {},
          "execution_count": 25
        }
      ],
      "source": [
        "df=pd.DataFrame(first_document_vector.T.toarray(),index=vectorizer.get_feature_names(),columns=['CountVectorizer'])\n",
        "df.sort_values(by=['CountVectorizer'],ascending=False)"
      ]
    },
    {
      "cell_type": "markdown",
      "metadata": {
        "id": "1e-CrZxcgPC-"
      },
      "source": [
        "#### Split data into train & test\n",
        "    train---> To learn the relationship within data, \n",
        "    test-->  To do predictions, and this testing data will be unseen to my model"
      ]
    },
    {
      "cell_type": "code",
      "execution_count": 26,
      "metadata": {
        "id": "-qYpD61TgPC-"
      },
      "outputs": [],
      "source": [
        "from sklearn.model_selection import train_test_split\n",
        "X_train, X_test, y_train, y_test = train_test_split(X, y, test_size = 0.20, random_state = 42)"
      ]
    },
    {
      "cell_type": "code",
      "execution_count": 27,
      "metadata": {
        "colab": {
          "base_uri": "https://localhost:8080/"
        },
        "id": "Pwc-XAoZgPC-",
        "outputId": "b50d9db4-0984-4f3e-9406-6084dc3f94bc"
      },
      "outputs": [
        {
          "output_type": "execute_result",
          "data": {
            "text/plain": [
              "(535711, 125)"
            ]
          },
          "metadata": {},
          "execution_count": 27
        }
      ],
      "source": [
        "X_train.shape"
      ]
    },
    {
      "cell_type": "markdown",
      "metadata": {
        "id": "m9r_yVxOgPC_"
      },
      "source": [
        "#### Apply Logistic on data as use-cas is Classification"
      ]
    },
    {
      "cell_type": "code",
      "execution_count": 28,
      "metadata": {
        "id": "HoChvGfJgPC_"
      },
      "outputs": [],
      "source": [
        "from sklearn.linear_model import LogisticRegression"
      ]
    },
    {
      "cell_type": "code",
      "execution_count": 29,
      "metadata": {
        "id": "fc9z1stLgPC_"
      },
      "outputs": [],
      "source": [
        "clf=LogisticRegression(random_state=42, multi_class='multinomial')"
      ]
    },
    {
      "cell_type": "code",
      "execution_count": 30,
      "metadata": {
        "colab": {
          "base_uri": "https://localhost:8080/"
        },
        "id": "BhJOoCEogPC_",
        "outputId": "2b02e553-37a9-468c-8c32-62e75b35df6b"
      },
      "outputs": [
        {
          "output_type": "execute_result",
          "data": {
            "text/plain": [
              "LogisticRegression(multi_class='multinomial', random_state=42)"
            ]
          },
          "metadata": {},
          "execution_count": 30
        }
      ],
      "source": [
        "clf.fit(X_train,y_train)"
      ]
    },
    {
      "cell_type": "markdown",
      "metadata": {
        "id": "GDsFqZwQgPC_"
      },
      "source": [
        "#### Doing prediction for specific custom data"
      ]
    },
    {
      "cell_type": "code",
      "execution_count": 31,
      "metadata": {
        "colab": {
          "base_uri": "https://localhost:8080/"
        },
        "id": "KqX97A0kgPC_",
        "outputId": "384cc811-e413-434a-98a8-4aa781cfc86e"
      },
      "outputs": [
        {
          "output_type": "execute_result",
          "data": {
            "text/plain": [
              "array([1])"
            ]
          },
          "metadata": {},
          "execution_count": 31
        }
      ],
      "source": [
        "dt=np.array(['1f23abcd'])\n",
        "pred=vectorizer.transform(dt)\n",
        "clf.predict(pred)"
      ]
    },
    {
      "cell_type": "markdown",
      "metadata": {
        "id": "qz8XyfEmgPDA"
      },
      "source": [
        "#### Doing prediction on X-Train data"
      ]
    },
    {
      "cell_type": "code",
      "execution_count": 32,
      "metadata": {
        "colab": {
          "base_uri": "https://localhost:8080/"
        },
        "id": "N7ykQOoDgPDA",
        "outputId": "2835b5b2-65bc-44c9-d767-d9864ac988a8"
      },
      "outputs": [
        {
          "output_type": "execute_result",
          "data": {
            "text/plain": [
              "array([1, 1, 0, ..., 1, 1, 1])"
            ]
          },
          "metadata": {},
          "execution_count": 32
        }
      ],
      "source": [
        "y_hat=clf.predict(X_train)\n",
        "y_hat"
      ]
    },
    {
      "cell_type": "markdown",
      "metadata": {
        "id": "ppXPjOUUgPDA"
      },
      "source": [
        "#### Check Accuracy of your model using confusion_matrix,accuracy_score"
      ]
    },
    {
      "cell_type": "code",
      "execution_count": 33,
      "metadata": {
        "id": "iro-ZAJJgPDA"
      },
      "outputs": [],
      "source": [
        "from sklearn.metrics import confusion_matrix,accuracy_score, mean_absolute_error, mean_squared_error, r2_score, precision_score, recall_score, recall_score"
      ]
    },
    {
      "cell_type": "code",
      "execution_count": 34,
      "metadata": {
        "scrolled": true,
        "colab": {
          "base_uri": "https://localhost:8080/"
        },
        "id": "p4sCS3xggPDA",
        "outputId": "dd85b3ef-de49-4bdb-bf92-bd222374e3cf"
      },
      "outputs": [
        {
          "output_type": "stream",
          "name": "stdout",
          "text": [
            "[[ 72136      0      0]\n",
            " [    62 397050      0]\n",
            " [     0     24  66439]]\n",
            "0.9998394656820562\n"
          ]
        }
      ],
      "source": [
        "cm=confusion_matrix(y_train,y_hat)\n",
        "print(cm)\n",
        "print(accuracy_score(y_train,y_hat))"
      ]
    },
    {
      "cell_type": "code",
      "execution_count": 35,
      "metadata": {
        "colab": {
          "base_uri": "https://localhost:8080/"
        },
        "id": "n35oIDDEgPDA",
        "outputId": "d4092953-3d69-42c1-e972-4d3df36547a0"
      },
      "outputs": [
        {
          "output_type": "stream",
          "name": "stdout",
          "text": [
            "MAE 0.00016053431794381672\n",
            "RMSE 0.012670213808133497\n",
            "R2-squared 0.9993792358349463\n"
          ]
        }
      ],
      "source": [
        "print('MAE',mean_absolute_error(y_train,y_hat))\n",
        "print('RMSE',np.sqrt(mean_squared_error(y_train,y_hat)))\n",
        "print('R2-squared',r2_score(y_train,y_hat))"
      ]
    },
    {
      "cell_type": "markdown",
      "metadata": {
        "id": "cvz3jt8_gPDB"
      },
      "source": [
        "#### Doing prediction on X-Test data"
      ]
    },
    {
      "cell_type": "code",
      "execution_count": 36,
      "metadata": {
        "scrolled": true,
        "colab": {
          "base_uri": "https://localhost:8080/"
        },
        "id": "R2OcdOvFgPDB",
        "outputId": "054a5b4f-9794-4725-95e7-dfc253210cf6"
      },
      "outputs": [
        {
          "output_type": "execute_result",
          "data": {
            "text/plain": [
              "array([1, 1, 2, 1, 1, 1, 1, 1, 1, 2, 1, 2, 1, 0, 1, 1, 1, 1, 1, 0, 1, 1,\n",
              "       2, 0, 1, 1, 1, 1, 1, 0, 1, 0, 1, 1, 1, 2, 1, 1, 1, 0, 1, 1, 0, 1,\n",
              "       1, 0, 1, 0, 1, 1, 1, 1, 1, 1, 1, 2, 0, 1, 1, 1, 0, 0, 1, 1, 0, 0,\n",
              "       1, 1, 1, 1, 1, 0, 1, 1, 1, 1, 1, 1, 1, 0, 1, 1, 0, 1, 1, 2, 1, 1,\n",
              "       2, 1, 0, 1, 0, 2, 1, 1, 1, 1, 1, 1, 2, 1, 1, 1, 1, 0, 0, 1, 1, 0,\n",
              "       0, 1, 0, 1, 1, 1, 1, 2, 1, 1, 1, 1, 2, 1, 1, 1, 1, 2, 2, 0, 2, 2,\n",
              "       2, 1, 1, 1, 0, 1, 2, 1, 1, 1, 1, 0, 1, 1, 1, 0, 1, 1, 2, 1, 1, 1,\n",
              "       1, 1, 1, 1, 1, 1, 1, 0, 1, 1, 1, 0, 1, 2, 1, 2, 1, 2, 1, 1, 0, 0,\n",
              "       1, 1, 1, 0, 1, 1, 2, 1, 0, 1, 1, 0, 1, 1, 1, 1, 1, 1, 1, 0, 2, 1,\n",
              "       1, 2])"
            ]
          },
          "metadata": {},
          "execution_count": 36
        }
      ],
      "source": [
        "y_pred=clf.predict(X_test)\n",
        "y_pred[0:200]"
      ]
    },
    {
      "cell_type": "markdown",
      "metadata": {
        "id": "SE9AnG2SgPDB"
      },
      "source": [
        "#### Check Accuracy of your model using confusion_matrix,accuracy_score"
      ]
    },
    {
      "cell_type": "code",
      "execution_count": 37,
      "metadata": {
        "scrolled": false,
        "colab": {
          "base_uri": "https://localhost:8080/"
        },
        "id": "ZmLZioZfgPDB",
        "outputId": "08379f95-44f5-48c0-caa6-0c25024978af"
      },
      "outputs": [
        {
          "output_type": "stream",
          "name": "stdout",
          "text": [
            "[[17996     0     0]\n",
            " [   18 99171     1]\n",
            " [    0     4 16738]]\n",
            "0.9998282659339347\n"
          ]
        }
      ],
      "source": [
        "cm=confusion_matrix(y_test,y_pred)\n",
        "print(cm)\n",
        "print(accuracy_score(y_test,y_pred))"
      ]
    },
    {
      "cell_type": "code",
      "execution_count": 38,
      "metadata": {
        "colab": {
          "base_uri": "https://localhost:8080/"
        },
        "id": "FJE93a-5gPDB",
        "outputId": "f1851644-5cec-41fa-ccee-97fda1173658"
      },
      "outputs": [
        {
          "output_type": "stream",
          "name": "stdout",
          "text": [
            "MAE 0.00017173406606534855\n",
            "RMSE 0.013104734490456056\n",
            "R2-squared 0.9993376769915504\n"
          ]
        }
      ],
      "source": [
        "print('MAE',mean_absolute_error(y_test,y_pred))\n",
        "print('RMSE',np.sqrt(mean_squared_error(y_test,y_pred)))\n",
        "print('R2-squared',r2_score(y_test,y_pred))"
      ]
    },
    {
      "cell_type": "markdown",
      "metadata": {
        "id": "Aml8pi4ugPDB"
      },
      "source": [
        "### Report for model"
      ]
    },
    {
      "cell_type": "code",
      "source": [
        "#Report"
      ],
      "metadata": {
        "id": "qR6JbzlXCvHC"
      },
      "execution_count": 41,
      "outputs": []
    },
    {
      "cell_type": "code",
      "execution_count": 39,
      "metadata": {
        "colab": {
          "base_uri": "https://localhost:8080/"
        },
        "id": "Cm2ttw9EgPDC",
        "outputId": "6c5c7695-6798-4868-dc19-a6596b2b1ac3"
      },
      "outputs": [
        {
          "output_type": "stream",
          "name": "stdout",
          "text": [
            "              precision    recall  f1-score   support\n",
            "\n",
            "           0       1.00      1.00      1.00     17996\n",
            "           1       1.00      1.00      1.00     99190\n",
            "           2       1.00      1.00      1.00     16742\n",
            "\n",
            "    accuracy                           1.00    133928\n",
            "   macro avg       1.00      1.00      1.00    133928\n",
            "weighted avg       1.00      1.00      1.00    133928\n",
            "\n"
          ]
        }
      ],
      "source": [
        "from sklearn.metrics import classification_report\n",
        "print(classification_report(y_test,y_pred))"
      ]
    }
  ],
  "metadata": {
    "kernelspec": {
      "display_name": "Python 3 (ipykernel)",
      "language": "python",
      "name": "python3"
    },
    "language_info": {
      "codemirror_mode": {
        "name": "ipython",
        "version": 3
      },
      "file_extension": ".py",
      "mimetype": "text/x-python",
      "name": "python",
      "nbconvert_exporter": "python",
      "pygments_lexer": "ipython3",
      "version": "3.9.7"
    },
    "colab": {
      "name": "NLP_Password_Strength.ipynb",
      "provenance": [],
      "collapsed_sections": []
    }
  },
  "nbformat": 4,
  "nbformat_minor": 0
}